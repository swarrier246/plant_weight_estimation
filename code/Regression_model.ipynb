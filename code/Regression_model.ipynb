{
 "cells": [
  {
   "cell_type": "code",
   "execution_count": 1,
   "metadata": {},
   "outputs": [],
   "source": [
    "import pandas as pd  \n",
    "import numpy as np  \n",
    "import matplotlib.pyplot as plt   \n",
    "from sklearn.model_selection import train_test_split \n",
    "from sklearn.linear_model import LinearRegression\n",
    "from sklearn.metrics import mean_squared_log_error\n",
    "from sklearn import metrics"
   ]
  },
  {
   "cell_type": "code",
   "execution_count": 2,
   "metadata": {},
   "outputs": [
    {
     "data": {
      "text/plain": [
       "(34, 13)"
      ]
     },
     "execution_count": 2,
     "metadata": {},
     "output_type": "execute_result"
    }
   ],
   "source": [
    "raw_data = pd.read_excel('../Area_weight_table.xlsx', sheet_name=8)\n",
    "raw_data.shape"
   ]
  },
  {
   "cell_type": "code",
   "execution_count": 3,
   "metadata": {},
   "outputs": [
    {
     "data": {
      "text/html": [
       "<div>\n",
       "<style scoped>\n",
       "    .dataframe tbody tr th:only-of-type {\n",
       "        vertical-align: middle;\n",
       "    }\n",
       "\n",
       "    .dataframe tbody tr th {\n",
       "        vertical-align: top;\n",
       "    }\n",
       "\n",
       "    .dataframe thead th {\n",
       "        text-align: right;\n",
       "    }\n",
       "</style>\n",
       "<table border=\"1\" class=\"dataframe\">\n",
       "  <thead>\n",
       "    <tr style=\"text-align: right;\">\n",
       "      <th></th>\n",
       "      <th>Measured Plant Weight</th>\n",
       "      <th>Plant area(pixels)_image1</th>\n",
       "      <th>Plant area(cm2)_image1 (top view)</th>\n",
       "      <th>Plant area(cm2)_image2 (front view)</th>\n",
       "      <th>Predicted Plant Weight</th>\n",
       "      <th>Unnamed: 11</th>\n",
       "    </tr>\n",
       "  </thead>\n",
       "  <tbody>\n",
       "    <tr>\n",
       "      <th>count</th>\n",
       "      <td>34.000000</td>\n",
       "      <td>34.000000</td>\n",
       "      <td>34.000000</td>\n",
       "      <td>34.0</td>\n",
       "      <td>0.0</td>\n",
       "      <td>0.0</td>\n",
       "    </tr>\n",
       "    <tr>\n",
       "      <th>mean</th>\n",
       "      <td>103.015882</td>\n",
       "      <td>136645.970588</td>\n",
       "      <td>537.813529</td>\n",
       "      <td>0.0</td>\n",
       "      <td>NaN</td>\n",
       "      <td>NaN</td>\n",
       "    </tr>\n",
       "    <tr>\n",
       "      <th>std</th>\n",
       "      <td>63.689515</td>\n",
       "      <td>91221.799797</td>\n",
       "      <td>248.376722</td>\n",
       "      <td>0.0</td>\n",
       "      <td>NaN</td>\n",
       "      <td>NaN</td>\n",
       "    </tr>\n",
       "    <tr>\n",
       "      <th>min</th>\n",
       "      <td>24.960000</td>\n",
       "      <td>49242.000000</td>\n",
       "      <td>192.750000</td>\n",
       "      <td>0.0</td>\n",
       "      <td>NaN</td>\n",
       "      <td>NaN</td>\n",
       "    </tr>\n",
       "    <tr>\n",
       "      <th>25%</th>\n",
       "      <td>46.680000</td>\n",
       "      <td>66793.500000</td>\n",
       "      <td>345.757500</td>\n",
       "      <td>0.0</td>\n",
       "      <td>NaN</td>\n",
       "      <td>NaN</td>\n",
       "    </tr>\n",
       "    <tr>\n",
       "      <th>50%</th>\n",
       "      <td>91.245000</td>\n",
       "      <td>71066.000000</td>\n",
       "      <td>476.860000</td>\n",
       "      <td>0.0</td>\n",
       "      <td>NaN</td>\n",
       "      <td>NaN</td>\n",
       "    </tr>\n",
       "    <tr>\n",
       "      <th>75%</th>\n",
       "      <td>143.097500</td>\n",
       "      <td>228172.000000</td>\n",
       "      <td>678.510000</td>\n",
       "      <td>0.0</td>\n",
       "      <td>NaN</td>\n",
       "      <td>NaN</td>\n",
       "    </tr>\n",
       "    <tr>\n",
       "      <th>max</th>\n",
       "      <td>277.640000</td>\n",
       "      <td>344126.000000</td>\n",
       "      <td>1306.290000</td>\n",
       "      <td>0.0</td>\n",
       "      <td>NaN</td>\n",
       "      <td>NaN</td>\n",
       "    </tr>\n",
       "  </tbody>\n",
       "</table>\n",
       "</div>"
      ],
      "text/plain": [
       "       Measured Plant Weight  Plant area(pixels)_image1  \\\n",
       "count              34.000000                  34.000000   \n",
       "mean              103.015882              136645.970588   \n",
       "std                63.689515               91221.799797   \n",
       "min                24.960000               49242.000000   \n",
       "25%                46.680000               66793.500000   \n",
       "50%                91.245000               71066.000000   \n",
       "75%               143.097500              228172.000000   \n",
       "max               277.640000              344126.000000   \n",
       "\n",
       "       Plant area(cm2)_image1 (top view)  Plant area(cm2)_image2 (front view)  \\\n",
       "count                          34.000000                                 34.0   \n",
       "mean                          537.813529                                  0.0   \n",
       "std                           248.376722                                  0.0   \n",
       "min                           192.750000                                  0.0   \n",
       "25%                           345.757500                                  0.0   \n",
       "50%                           476.860000                                  0.0   \n",
       "75%                           678.510000                                  0.0   \n",
       "max                          1306.290000                                  0.0   \n",
       "\n",
       "       Predicted Plant Weight  Unnamed: 11  \n",
       "count                     0.0          0.0  \n",
       "mean                      NaN          NaN  \n",
       "std                       NaN          NaN  \n",
       "min                       NaN          NaN  \n",
       "25%                       NaN          NaN  \n",
       "50%                       NaN          NaN  \n",
       "75%                       NaN          NaN  \n",
       "max                       NaN          NaN  "
      ]
     },
     "execution_count": 3,
     "metadata": {},
     "output_type": "execute_result"
    }
   ],
   "source": [
    "raw_data = pd.read_excel('../Area_weight_table.xlsx', sheet_name=8)\n",
    "raw_data.describe()"
   ]
  },
  {
   "cell_type": "code",
   "execution_count": 4,
   "metadata": {},
   "outputs": [
    {
     "data": {
      "image/png": "[encoded data removed]",
      "text/plain": [
       "<Figure size 432x288 with 1 Axes>"
      ]
     },
     "metadata": {
      "needs_background": "light"
     },
     "output_type": "display_data"
    }
   ],
   "source": [
    "# plot raw data\n",
    "raw_data.plot.scatter(x='Plant area(cm2)_image1 (top view)', y='Measured Plant Weight', c=raw_data.Cropped_by.map(dict(Gerry='green', Sushmita='red')))  \n",
    "# uncomment to plot data for each reservoir\n",
    "#raw_data.iloc[1:10].plot.scatter(x='Plant area(cm2)_image1 (top view)', y='Measured Plant Weight', c=raw_data.iloc[1:10].Cropped_by.map(dict(Gerry='green', Sushmita='red')))\n",
    "\n",
    "plt.title('Weight vs Area')  \n",
    "plt.xlabel('Area')  \n",
    "plt.ylabel('Weight')  \n",
    "plt.show()"
   ]
  },
  {
   "cell_type": "code",
   "execution_count": 5,
   "metadata": {},
   "outputs": [
    {
     "data": {
      "image/png": "[encoded data removed]",
      "text/plain": [
       "<Figure size 432x288 with 1 Axes>"
      ]
     },
     "metadata": {
      "needs_background": "light"
     },
     "output_type": "display_data"
    }
   ],
   "source": [
    "# color coding data for each reservoir\n",
    "_, ax = plt.subplots()\n",
    "colors = {'C1': 'blue','C2':'yellow', 'C3':'purple', 'C4':'cyan'}\n",
    "for key,group in raw_data.groupby('Reservoir_ID'):\n",
    "    group.plot.scatter(ax=ax, x='Plant area(cm2)_image1 (top view)', y='Measured Plant Weight', label=key, color = colors[key]);\n",
    "#raw_data.plot.scatter(x='Plant area(cm2)_image1 (top view)', y='Measured Plant Weight', c=raw_data.Reservoir_ID.map(dict(C1='blue', C2='yellow', C3='purple', C4='cyan')))\n",
    "plt.title('Weight vs Area Reservoir Data')\n",
    "\n",
    "#plt.legend()\n",
    "plt.xlabel('Area')\n",
    "plt.ylabel('Weight')  \n",
    "plt.show()"
   ]
  },
  {
   "cell_type": "code",
   "execution_count": 6,
   "metadata": {},
   "outputs": [],
   "source": [
    "# divide variables into attributes(independent variables) and labels(dependent variables)\n",
    "X = raw_data['Plant area(cm2)_image1 (top view)'].values.reshape(-1,1)\n",
    "Y = raw_data['Measured Plant Weight'].values.reshape(-1,1)\n",
    "# split data into training and testing (validating) sets\n",
    "X_train, X_test, Y_train, Y_test = train_test_split(X, Y, test_size=0.2, random_state=0)"
   ]
  },
  {
   "cell_type": "code",
   "execution_count": 7,
   "metadata": {},
   "outputs": [
    {
     "data": {
      "text/plain": [
       "LinearRegression(copy_X=True, fit_intercept=True, n_jobs=None, normalize=False)"
      ]
     },
     "execution_count": 7,
     "metadata": {},
     "output_type": "execute_result"
    }
   ],
   "source": [
    "# fit the model and train\n",
    "regressor = LinearRegression()  \n",
    "regressor.fit(X_train, Y_train)"
   ]
  },
  {
   "cell_type": "code",
   "execution_count": 8,
   "metadata": {},
   "outputs": [
    {
     "name": "stdout",
     "output_type": "stream",
     "text": [
      "   Actual   Predicted\n",
      "0   86.00   87.058056\n",
      "1   63.77   64.291215\n",
      "2  277.64  290.304302\n",
      "3  119.88   78.103590\n",
      "4   27.93   16.822229\n",
      "5  148.72  131.967922\n",
      "6   46.64   52.831660\n"
     ]
    }
   ],
   "source": [
    "# Predict data\n",
    "Y_pred = regressor.predict(X_test)\n",
    "# Compare predicted values with actual values\n",
    "df = pd.DataFrame({'Actual': Y_test.flatten(), 'Predicted': Y_pred.flatten()})\n",
    "print(df)"
   ]
  },
  {
   "cell_type": "code",
   "execution_count": 9,
   "metadata": {},
   "outputs": [
    {
     "data": {
      "image/png": "[encoded data removed]",
      "text/plain": [
       "<Figure size 432x288 with 1 Axes>"
      ]
     },
     "metadata": {
      "needs_background": "light"
     },
     "output_type": "display_data"
    }
   ],
   "source": [
    "# Plot predicted test data\n",
    "plt.scatter(X_test, Y_test,  color='gray')\n",
    "plt.plot(X_test, Y_pred, color='red', linewidth=2)\n",
    "plt.show()"
   ]
  },
  {
   "cell_type": "code",
   "execution_count": 10,
   "metadata": {},
   "outputs": [
    {
     "name": "stdout",
     "output_type": "stream",
     "text": [
      "Mean Absolute Error: 12.867356054786006\n",
      "Mean Squared Error: 335.627924076105\n",
      "Root Mean Squared Error: 18.320150765648872\n",
      "Root Mean Squared Log Error: 0.25232660841334303\n",
      "R^2 score: 0.9455694306517867\n"
     ]
    }
   ],
   "source": [
    "# Metrics for model performance\n",
    "print('Mean Absolute Error:', metrics.mean_absolute_error(Y_test, Y_pred))  \n",
    "print('Mean Squared Error:', metrics.mean_squared_error(Y_test, Y_pred))  \n",
    "print('Root Mean Squared Error:', np.sqrt(metrics.mean_squared_error(Y_test, Y_pred)))\n",
    "print('Root Mean Squared Log Error:', np.sqrt(mean_squared_log_error( Y_test, Y_pred )))\n",
    "print('R^2 score:',metrics.r2_score(Y_test, Y_pred))"
   ]
  },
  {
   "cell_type": "code",
   "execution_count": null,
   "metadata": {},
   "outputs": [],
   "source": []
  },
  {
   "cell_type": "code",
   "execution_count": null,
   "metadata": {},
   "outputs": [],
   "source": []
  },
  {
   "cell_type": "code",
   "execution_count": null,
   "metadata": {},
   "outputs": [],
   "source": []
  }
 ],
 "metadata": {
  "kernelspec": {
   "display_name": "Python 3",
   "language": "python",
   "name": "python3"
  },
  "language_info": {
   "codemirror_mode": {
    "name": "ipython",
    "version": 3
   },
   "file_extension": ".py",
   "mimetype": "text/x-python",
   "name": "python",
   "nbconvert_exporter": "python",
   "pygments_lexer": "ipython3",
   "version": "3.7.6"
  }
 },
 "nbformat": 4,
 "nbformat_minor": 4
}
