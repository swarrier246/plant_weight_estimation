{
 "cells": [
  {
   "cell_type": "code",
   "execution_count": 3,
   "metadata": {},
   "outputs": [],
   "source": [
    "import pandas as pd  \n",
    "import numpy as np  \n",
    "import matplotlib.pyplot as plt   \n",
    "from sklearn.model_selection import train_test_split \n",
    "from sklearn.linear_model import LinearRegression\n",
    "from sklearn import metrics"
   ]
  },
  {
   "cell_type": "code",
   "execution_count": 11,
   "metadata": {},
   "outputs": [
    {
     "data": {
      "text/html": [
       "<div>\n",
       "<style scoped>\n",
       "    .dataframe tbody tr th:only-of-type {\n",
       "        vertical-align: middle;\n",
       "    }\n",
       "\n",
       "    .dataframe tbody tr th {\n",
       "        vertical-align: top;\n",
       "    }\n",
       "\n",
       "    .dataframe thead th {\n",
       "        text-align: right;\n",
       "    }\n",
       "</style>\n",
       "<table border=\"1\" class=\"dataframe\">\n",
       "  <thead>\n",
       "    <tr style=\"text-align: right;\">\n",
       "      <th></th>\n",
       "      <th>Measured Plant Weight</th>\n",
       "      <th>Plant area(cm2)_image1 (top view)</th>\n",
       "      <th>Plant area(cm2)_image2 (front view)</th>\n",
       "      <th>Predicted Plant Weight</th>\n",
       "    </tr>\n",
       "  </thead>\n",
       "  <tbody>\n",
       "    <tr>\n",
       "      <th>count</th>\n",
       "      <td>33.000000</td>\n",
       "      <td>33.000000</td>\n",
       "      <td>33.0</td>\n",
       "      <td>0.0</td>\n",
       "    </tr>\n",
       "    <tr>\n",
       "      <th>mean</th>\n",
       "      <td>117.024545</td>\n",
       "      <td>564.417273</td>\n",
       "      <td>0.0</td>\n",
       "      <td>NaN</td>\n",
       "    </tr>\n",
       "    <tr>\n",
       "      <th>std</th>\n",
       "      <td>68.954761</td>\n",
       "      <td>293.050424</td>\n",
       "      <td>0.0</td>\n",
       "      <td>NaN</td>\n",
       "    </tr>\n",
       "    <tr>\n",
       "      <th>min</th>\n",
       "      <td>24.960000</td>\n",
       "      <td>137.140000</td>\n",
       "      <td>0.0</td>\n",
       "      <td>NaN</td>\n",
       "    </tr>\n",
       "    <tr>\n",
       "      <th>25%</th>\n",
       "      <td>53.550000</td>\n",
       "      <td>346.770000</td>\n",
       "      <td>0.0</td>\n",
       "      <td>NaN</td>\n",
       "    </tr>\n",
       "    <tr>\n",
       "      <th>50%</th>\n",
       "      <td>99.700000</td>\n",
       "      <td>527.850000</td>\n",
       "      <td>0.0</td>\n",
       "      <td>NaN</td>\n",
       "    </tr>\n",
       "    <tr>\n",
       "      <th>75%</th>\n",
       "      <td>148.720000</td>\n",
       "      <td>643.610000</td>\n",
       "      <td>0.0</td>\n",
       "      <td>NaN</td>\n",
       "    </tr>\n",
       "    <tr>\n",
       "      <th>max</th>\n",
       "      <td>277.640000</td>\n",
       "      <td>1458.680000</td>\n",
       "      <td>0.0</td>\n",
       "      <td>NaN</td>\n",
       "    </tr>\n",
       "  </tbody>\n",
       "</table>\n",
       "</div>"
      ],
      "text/plain": [
       "       Measured Plant Weight  Plant area(cm2)_image1 (top view)  \\\n",
       "count              33.000000                          33.000000   \n",
       "mean              117.024545                         564.417273   \n",
       "std                68.954761                         293.050424   \n",
       "min                24.960000                         137.140000   \n",
       "25%                53.550000                         346.770000   \n",
       "50%                99.700000                         527.850000   \n",
       "75%               148.720000                         643.610000   \n",
       "max               277.640000                        1458.680000   \n",
       "\n",
       "       Plant area(cm2)_image2 (front view)  Predicted Plant Weight  \n",
       "count                                 33.0                     0.0  \n",
       "mean                                   0.0                     NaN  \n",
       "std                                    0.0                     NaN  \n",
       "min                                    0.0                     NaN  \n",
       "25%                                    0.0                     NaN  \n",
       "50%                                    0.0                     NaN  \n",
       "75%                                    0.0                     NaN  \n",
       "max                                    0.0                     NaN  "
      ]
     },
     "execution_count": 11,
     "metadata": {},
     "output_type": "execute_result"
    }
   ],
   "source": [
    "raw_data = pd.read_excel('../Area_weight_table.xlsx', sheet_name=7)\n",
    "raw_data.describe()"
   ]
  },
  {
   "cell_type": "code",
   "execution_count": 13,
   "metadata": {},
   "outputs": [
    {
     "data": {
      "text/html": [
       "<div>\n",
       "<style scoped>\n",
       "    .dataframe tbody tr th:only-of-type {\n",
       "        vertical-align: middle;\n",
       "    }\n",
       "\n",
       "    .dataframe tbody tr th {\n",
       "        vertical-align: top;\n",
       "    }\n",
       "\n",
       "    .dataframe thead th {\n",
       "        text-align: right;\n",
       "    }\n",
       "</style>\n",
       "<table border=\"1\" class=\"dataframe\">\n",
       "  <thead>\n",
       "    <tr style=\"text-align: right;\">\n",
       "      <th></th>\n",
       "      <th>Measured Plant Weight</th>\n",
       "      <th>Plant area(cm2)_image1 (top view)</th>\n",
       "      <th>Plant area(cm2)_image2 (front view)</th>\n",
       "      <th>Predicted Plant Weight</th>\n",
       "    </tr>\n",
       "  </thead>\n",
       "  <tbody>\n",
       "    <tr>\n",
       "      <th>count</th>\n",
       "      <td>33.000000</td>\n",
       "      <td>33.000000</td>\n",
       "      <td>33.0</td>\n",
       "      <td>0.0</td>\n",
       "    </tr>\n",
       "    <tr>\n",
       "      <th>mean</th>\n",
       "      <td>117.024545</td>\n",
       "      <td>564.417273</td>\n",
       "      <td>0.0</td>\n",
       "      <td>NaN</td>\n",
       "    </tr>\n",
       "    <tr>\n",
       "      <th>std</th>\n",
       "      <td>68.954761</td>\n",
       "      <td>293.050424</td>\n",
       "      <td>0.0</td>\n",
       "      <td>NaN</td>\n",
       "    </tr>\n",
       "    <tr>\n",
       "      <th>min</th>\n",
       "      <td>24.960000</td>\n",
       "      <td>137.140000</td>\n",
       "      <td>0.0</td>\n",
       "      <td>NaN</td>\n",
       "    </tr>\n",
       "    <tr>\n",
       "      <th>25%</th>\n",
       "      <td>53.550000</td>\n",
       "      <td>346.770000</td>\n",
       "      <td>0.0</td>\n",
       "      <td>NaN</td>\n",
       "    </tr>\n",
       "    <tr>\n",
       "      <th>50%</th>\n",
       "      <td>99.700000</td>\n",
       "      <td>527.850000</td>\n",
       "      <td>0.0</td>\n",
       "      <td>NaN</td>\n",
       "    </tr>\n",
       "    <tr>\n",
       "      <th>75%</th>\n",
       "      <td>148.720000</td>\n",
       "      <td>643.610000</td>\n",
       "      <td>0.0</td>\n",
       "      <td>NaN</td>\n",
       "    </tr>\n",
       "    <tr>\n",
       "      <th>max</th>\n",
       "      <td>277.640000</td>\n",
       "      <td>1458.680000</td>\n",
       "      <td>0.0</td>\n",
       "      <td>NaN</td>\n",
       "    </tr>\n",
       "  </tbody>\n",
       "</table>\n",
       "</div>"
      ],
      "text/plain": [
       "       Measured Plant Weight  Plant area(cm2)_image1 (top view)  \\\n",
       "count              33.000000                          33.000000   \n",
       "mean              117.024545                         564.417273   \n",
       "std                68.954761                         293.050424   \n",
       "min                24.960000                         137.140000   \n",
       "25%                53.550000                         346.770000   \n",
       "50%                99.700000                         527.850000   \n",
       "75%               148.720000                         643.610000   \n",
       "max               277.640000                        1458.680000   \n",
       "\n",
       "       Plant area(cm2)_image2 (front view)  Predicted Plant Weight  \n",
       "count                                 33.0                     0.0  \n",
       "mean                                   0.0                     NaN  \n",
       "std                                    0.0                     NaN  \n",
       "min                                    0.0                     NaN  \n",
       "25%                                    0.0                     NaN  \n",
       "50%                                    0.0                     NaN  \n",
       "75%                                    0.0                     NaN  \n",
       "max                                    0.0                     NaN  "
      ]
     },
     "execution_count": 13,
     "metadata": {},
     "output_type": "execute_result"
    }
   ],
   "source": [
    "raw_data = pd.read_excel('../Area_weight_table.xlsx', sheet_name=7)\n",
    "raw_data.describe()"
   ]
  },
  {
   "cell_type": "code",
   "execution_count": 14,
   "metadata": {},
   "outputs": [
    {
     "data": {
      "image/png": "[encoded data removed]",
      "text/plain": [
       "<Figure size 432x288 with 1 Axes>"
      ]
     },
     "metadata": {
      "needs_background": "light"
     },
     "output_type": "display_data"
    }
   ],
   "source": [
    "# plot raw data\n",
    "raw_data.plot(x='Plant area(cm2)_image1 (top view)', y='Measured Plant Weight', style='o')  \n",
    "plt.title('Weight vs Area')  \n",
    "plt.xlabel('Area')  \n",
    "plt.ylabel('Weight')  \n",
    "plt.show()"
   ]
  },
  {
   "cell_type": "code",
   "execution_count": 15,
   "metadata": {},
   "outputs": [],
   "source": [
    "# divide variables into attributes(independent variables) and labels(dependent variables)\n",
    "X = raw_data['Plant area(cm2)_image1 (top view)'].values.reshape(-1,1)\n",
    "Y = raw_data['Measured Plant Weight'].values.reshape(-1,1)\n",
    "# split data into training and testing sets\n",
    "X_train, X_test, Y_train, Y_test = train_test_split(X, Y, test_size=0.2, random_state=0)"
   ]
  },
  {
   "cell_type": "code",
   "execution_count": 16,
   "metadata": {},
   "outputs": [
    {
     "data": {
      "text/plain": [
       "LinearRegression(copy_X=True, fit_intercept=True, n_jobs=None, normalize=False)"
      ]
     },
     "execution_count": 16,
     "metadata": {},
     "output_type": "execute_result"
    }
   ],
   "source": [
    "# fit the model and train\n",
    "regressor = LinearRegression()  \n",
    "regressor.fit(X_train, Y_train)"
   ]
  },
  {
   "cell_type": "code",
   "execution_count": 17,
   "metadata": {},
   "outputs": [
    {
     "name": "stdout",
     "output_type": "stream",
     "text": [
      "   Actual   Predicted\n",
      "0   46.28   62.336411\n",
      "1  107.67  125.581847\n",
      "2  148.19   67.486585\n",
      "3   63.66   77.677964\n",
      "4   53.55   73.489386\n",
      "5  135.95  118.034376\n",
      "6  277.64  228.715323\n"
     ]
    }
   ],
   "source": [
    "# Predict data\n",
    "Y_pred = regressor.predict(X_test)\n",
    "# Compare predicted values with actual values\n",
    "df = pd.DataFrame({'Actual': Y_test.flatten(), 'Predicted': Y_pred.flatten()})\n",
    "print(df)"
   ]
  },
  {
   "cell_type": "code",
   "execution_count": 18,
   "metadata": {},
   "outputs": [
    {
     "data": {
      "image/png": "[encoded data removed]",
      "text/plain": [
       "<Figure size 432x288 with 1 Axes>"
      ]
     },
     "metadata": {
      "needs_background": "light"
     },
     "output_type": "display_data"
    }
   ],
   "source": [
    "# Plot predicted test data\n",
    "plt.scatter(X_test, Y_test,  color='gray')\n",
    "plt.plot(X_test, Y_pred, color='red', linewidth=2)\n",
    "plt.show()"
   ]
  },
  {
   "cell_type": "code",
   "execution_count": 10,
   "metadata": {},
   "outputs": [
    {
     "name": "stdout",
     "output_type": "stream",
     "text": [
      "Mean Absolute Error: 30.781332031188107\n",
      "Mean Squared Error: 1485.7656970474989\n",
      "Root Mean Squared Error: 38.54563136138126\n"
     ]
    }
   ],
   "source": [
    "# Metrics for model performance\n",
    "print('Mean Absolute Error:', metrics.mean_absolute_error(Y_test, Y_pred))  \n",
    "print('Mean Squared Error:', metrics.mean_squared_error(Y_test, Y_pred))  \n",
    "print('Root Mean Squared Error:', np.sqrt(metrics.mean_squared_error(Y_test, Y_pred)))"
   ]
  },
  {
   "cell_type": "code",
   "execution_count": null,
   "metadata": {},
   "outputs": [],
   "source": []
  }
 ],
 "metadata": {
  "kernelspec": {
   "display_name": "Python [conda env:ComputerVision] *",
   "language": "python",
   "name": "conda-env-ComputerVision-py"
  },
  "language_info": {
   "codemirror_mode": {
    "name": "ipython",
    "version": 3
   },
   "file_extension": ".py",
   "mimetype": "text/x-python",
   "name": "python",
   "nbconvert_exporter": "python",
   "pygments_lexer": "ipython3",
   "version": "3.7.7"
  }
 },
 "nbformat": 4,
 "nbformat_minor": 4
}
